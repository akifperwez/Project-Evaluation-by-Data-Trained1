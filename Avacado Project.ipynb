{
 "cells": [
  {
   "cell_type": "code",
   "execution_count": 90,
   "metadata": {},
   "outputs": [],
   "source": [
    "import pandas as pd\n",
    "import numpy as np\n",
    "import matplotlib.pyplot as plt\n",
    "import seaborn as sns\n",
    "import warnings\n",
    "warnings.filterwarnings(\"ignore\")"
   ]
  },
  {
   "cell_type": "code",
   "execution_count": 91,
   "metadata": {},
   "outputs": [
    {
     "data": {
      "text/html": [
       "<div>\n",
       "<style scoped>\n",
       "    .dataframe tbody tr th:only-of-type {\n",
       "        vertical-align: middle;\n",
       "    }\n",
       "\n",
       "    .dataframe tbody tr th {\n",
       "        vertical-align: top;\n",
       "    }\n",
       "\n",
       "    .dataframe thead th {\n",
       "        text-align: right;\n",
       "    }\n",
       "</style>\n",
       "<table border=\"1\" class=\"dataframe\">\n",
       "  <thead>\n",
       "    <tr style=\"text-align: right;\">\n",
       "      <th></th>\n",
       "      <th>Unnamed: 0</th>\n",
       "      <th>Date</th>\n",
       "      <th>AveragePrice</th>\n",
       "      <th>Total Volume</th>\n",
       "      <th>4046</th>\n",
       "      <th>4225</th>\n",
       "      <th>4770</th>\n",
       "      <th>Total Bags</th>\n",
       "      <th>Small Bags</th>\n",
       "      <th>Large Bags</th>\n",
       "      <th>XLarge Bags</th>\n",
       "      <th>type</th>\n",
       "      <th>year</th>\n",
       "      <th>region</th>\n",
       "    </tr>\n",
       "  </thead>\n",
       "  <tbody>\n",
       "    <tr>\n",
       "      <th>0</th>\n",
       "      <td>0.0</td>\n",
       "      <td>27-12-2015</td>\n",
       "      <td>1.33</td>\n",
       "      <td>64236.62</td>\n",
       "      <td>1036.74</td>\n",
       "      <td>54454.85</td>\n",
       "      <td>48.16</td>\n",
       "      <td>8696.87</td>\n",
       "      <td>8603.62</td>\n",
       "      <td>93.25</td>\n",
       "      <td>0.0</td>\n",
       "      <td>conventional</td>\n",
       "      <td>2015.0</td>\n",
       "      <td>Albany</td>\n",
       "    </tr>\n",
       "    <tr>\n",
       "      <th>1</th>\n",
       "      <td>1.0</td>\n",
       "      <td>20-12-2015</td>\n",
       "      <td>1.35</td>\n",
       "      <td>54876.98</td>\n",
       "      <td>674.28</td>\n",
       "      <td>44638.81</td>\n",
       "      <td>58.33</td>\n",
       "      <td>9505.56</td>\n",
       "      <td>9408.07</td>\n",
       "      <td>97.49</td>\n",
       "      <td>0.0</td>\n",
       "      <td>conventional</td>\n",
       "      <td>2015.0</td>\n",
       "      <td>Albany</td>\n",
       "    </tr>\n",
       "    <tr>\n",
       "      <th>2</th>\n",
       "      <td>2.0</td>\n",
       "      <td>13-12-2015</td>\n",
       "      <td>0.93</td>\n",
       "      <td>118220.22</td>\n",
       "      <td>794.70</td>\n",
       "      <td>109149.67</td>\n",
       "      <td>130.50</td>\n",
       "      <td>8145.35</td>\n",
       "      <td>8042.21</td>\n",
       "      <td>103.14</td>\n",
       "      <td>0.0</td>\n",
       "      <td>conventional</td>\n",
       "      <td>2015.0</td>\n",
       "      <td>Albany</td>\n",
       "    </tr>\n",
       "    <tr>\n",
       "      <th>3</th>\n",
       "      <td>3.0</td>\n",
       "      <td>06-12-2015</td>\n",
       "      <td>1.08</td>\n",
       "      <td>78992.15</td>\n",
       "      <td>1132.00</td>\n",
       "      <td>71976.41</td>\n",
       "      <td>72.58</td>\n",
       "      <td>5811.16</td>\n",
       "      <td>5677.40</td>\n",
       "      <td>133.76</td>\n",
       "      <td>0.0</td>\n",
       "      <td>conventional</td>\n",
       "      <td>2015.0</td>\n",
       "      <td>Albany</td>\n",
       "    </tr>\n",
       "    <tr>\n",
       "      <th>4</th>\n",
       "      <td>4.0</td>\n",
       "      <td>29-11-2015</td>\n",
       "      <td>1.28</td>\n",
       "      <td>51039.60</td>\n",
       "      <td>941.48</td>\n",
       "      <td>43838.39</td>\n",
       "      <td>75.78</td>\n",
       "      <td>6183.95</td>\n",
       "      <td>5986.26</td>\n",
       "      <td>197.69</td>\n",
       "      <td>0.0</td>\n",
       "      <td>conventional</td>\n",
       "      <td>2015.0</td>\n",
       "      <td>Albany</td>\n",
       "    </tr>\n",
       "  </tbody>\n",
       "</table>\n",
       "</div>"
      ],
      "text/plain": [
       "   Unnamed: 0        Date  AveragePrice  Total Volume     4046       4225  \\\n",
       "0         0.0  27-12-2015          1.33      64236.62  1036.74   54454.85   \n",
       "1         1.0  20-12-2015          1.35      54876.98   674.28   44638.81   \n",
       "2         2.0  13-12-2015          0.93     118220.22   794.70  109149.67   \n",
       "3         3.0  06-12-2015          1.08      78992.15  1132.00   71976.41   \n",
       "4         4.0  29-11-2015          1.28      51039.60   941.48   43838.39   \n",
       "\n",
       "     4770  Total Bags  Small Bags  Large Bags  XLarge Bags          type  \\\n",
       "0   48.16     8696.87     8603.62       93.25          0.0  conventional   \n",
       "1   58.33     9505.56     9408.07       97.49          0.0  conventional   \n",
       "2  130.50     8145.35     8042.21      103.14          0.0  conventional   \n",
       "3   72.58     5811.16     5677.40      133.76          0.0  conventional   \n",
       "4   75.78     6183.95     5986.26      197.69          0.0  conventional   \n",
       "\n",
       "     year  region  \n",
       "0  2015.0  Albany  \n",
       "1  2015.0  Albany  \n",
       "2  2015.0  Albany  \n",
       "3  2015.0  Albany  \n",
       "4  2015.0  Albany  "
      ]
     },
     "execution_count": 91,
     "metadata": {},
     "output_type": "execute_result"
    }
   ],
   "source": [
    "df=pd.read_csv(\"Avacado.csv\")\n",
    "df.head()"
   ]
  },
  {
   "cell_type": "code",
   "execution_count": 3,
   "metadata": {},
   "outputs": [
    {
     "data": {
      "text/plain": [
       "(16468, 14)"
      ]
     },
     "execution_count": 3,
     "metadata": {},
     "output_type": "execute_result"
    }
   ],
   "source": [
    "df.shape"
   ]
  },
  {
   "cell_type": "markdown",
   "metadata": {},
   "source": [
    "Here we have, 16468 rows and 14 columns"
   ]
  },
  {
   "cell_type": "code",
   "execution_count": 4,
   "metadata": {},
   "outputs": [
    {
     "data": {
      "text/plain": [
       "Unnamed: 0      float64\n",
       "Date             object\n",
       "AveragePrice    float64\n",
       "Total Volume    float64\n",
       "4046            float64\n",
       "4225            float64\n",
       "4770            float64\n",
       "Total Bags      float64\n",
       "Small Bags      float64\n",
       "Large Bags      float64\n",
       "XLarge Bags     float64\n",
       "type             object\n",
       "year            float64\n",
       "region           object\n",
       "dtype: object"
      ]
     },
     "execution_count": 4,
     "metadata": {},
     "output_type": "execute_result"
    }
   ],
   "source": [
    "df.dtypes"
   ]
  },
  {
   "cell_type": "code",
   "execution_count": 5,
   "metadata": {},
   "outputs": [
    {
     "name": "stdout",
     "output_type": "stream",
     "text": [
      "<class 'pandas.core.frame.DataFrame'>\n",
      "RangeIndex: 16468 entries, 0 to 16467\n",
      "Data columns (total 14 columns):\n",
      " #   Column        Non-Null Count  Dtype  \n",
      "---  ------        --------------  -----  \n",
      " 0   Unnamed: 0    1517 non-null   float64\n",
      " 1   Date          1517 non-null   object \n",
      " 2   AveragePrice  1517 non-null   float64\n",
      " 3   Total Volume  1517 non-null   float64\n",
      " 4   4046          1517 non-null   float64\n",
      " 5   4225          1517 non-null   float64\n",
      " 6   4770          1517 non-null   float64\n",
      " 7   Total Bags    1517 non-null   float64\n",
      " 8   Small Bags    1517 non-null   float64\n",
      " 9   Large Bags    1517 non-null   float64\n",
      " 10  XLarge Bags   1517 non-null   float64\n",
      " 11  type          1517 non-null   object \n",
      " 12  year          1517 non-null   float64\n",
      " 13  region        1517 non-null   object \n",
      "dtypes: float64(11), object(3)\n",
      "memory usage: 1.8+ MB\n"
     ]
    }
   ],
   "source": [
    "df.info()"
   ]
  },
  {
   "cell_type": "markdown",
   "metadata": {},
   "source": [
    "# Feature Extraction"
   ]
  },
  {
   "cell_type": "code",
   "execution_count": 6,
   "metadata": {},
   "outputs": [],
   "source": [
    "df[\"Date\"]=pd.to_datetime(df[\"Date\"])"
   ]
  },
  {
   "cell_type": "code",
   "execution_count": 7,
   "metadata": {},
   "outputs": [],
   "source": [
    "df[\"year\"]=df[\"Date\"].dt.year"
   ]
  },
  {
   "cell_type": "code",
   "execution_count": 8,
   "metadata": {},
   "outputs": [],
   "source": [
    "df[\"month\"]=df[\"Date\"].dt.month"
   ]
  },
  {
   "cell_type": "code",
   "execution_count": 9,
   "metadata": {},
   "outputs": [],
   "source": [
    "df.drop(\"Date\",axis=1,inplace=True)\n",
    "df.drop(\"Unnamed: 0\",axis=1,inplace=True)"
   ]
  },
  {
   "cell_type": "code",
   "execution_count": 10,
   "metadata": {},
   "outputs": [
    {
     "data": {
      "text/html": [
       "<div>\n",
       "<style scoped>\n",
       "    .dataframe tbody tr th:only-of-type {\n",
       "        vertical-align: middle;\n",
       "    }\n",
       "\n",
       "    .dataframe tbody tr th {\n",
       "        vertical-align: top;\n",
       "    }\n",
       "\n",
       "    .dataframe thead th {\n",
       "        text-align: right;\n",
       "    }\n",
       "</style>\n",
       "<table border=\"1\" class=\"dataframe\">\n",
       "  <thead>\n",
       "    <tr style=\"text-align: right;\">\n",
       "      <th></th>\n",
       "      <th>AveragePrice</th>\n",
       "      <th>Total Volume</th>\n",
       "      <th>4046</th>\n",
       "      <th>4225</th>\n",
       "      <th>4770</th>\n",
       "      <th>Total Bags</th>\n",
       "      <th>Small Bags</th>\n",
       "      <th>Large Bags</th>\n",
       "      <th>XLarge Bags</th>\n",
       "      <th>type</th>\n",
       "      <th>year</th>\n",
       "      <th>region</th>\n",
       "      <th>month</th>\n",
       "    </tr>\n",
       "  </thead>\n",
       "  <tbody>\n",
       "    <tr>\n",
       "      <th>0</th>\n",
       "      <td>1.33</td>\n",
       "      <td>64236.62</td>\n",
       "      <td>1036.74</td>\n",
       "      <td>54454.85</td>\n",
       "      <td>48.16</td>\n",
       "      <td>8696.87</td>\n",
       "      <td>8603.62</td>\n",
       "      <td>93.25</td>\n",
       "      <td>0.0</td>\n",
       "      <td>conventional</td>\n",
       "      <td>2015.0</td>\n",
       "      <td>Albany</td>\n",
       "      <td>12.0</td>\n",
       "    </tr>\n",
       "    <tr>\n",
       "      <th>1</th>\n",
       "      <td>1.35</td>\n",
       "      <td>54876.98</td>\n",
       "      <td>674.28</td>\n",
       "      <td>44638.81</td>\n",
       "      <td>58.33</td>\n",
       "      <td>9505.56</td>\n",
       "      <td>9408.07</td>\n",
       "      <td>97.49</td>\n",
       "      <td>0.0</td>\n",
       "      <td>conventional</td>\n",
       "      <td>2015.0</td>\n",
       "      <td>Albany</td>\n",
       "      <td>12.0</td>\n",
       "    </tr>\n",
       "    <tr>\n",
       "      <th>2</th>\n",
       "      <td>0.93</td>\n",
       "      <td>118220.22</td>\n",
       "      <td>794.70</td>\n",
       "      <td>109149.67</td>\n",
       "      <td>130.50</td>\n",
       "      <td>8145.35</td>\n",
       "      <td>8042.21</td>\n",
       "      <td>103.14</td>\n",
       "      <td>0.0</td>\n",
       "      <td>conventional</td>\n",
       "      <td>2015.0</td>\n",
       "      <td>Albany</td>\n",
       "      <td>12.0</td>\n",
       "    </tr>\n",
       "    <tr>\n",
       "      <th>3</th>\n",
       "      <td>1.08</td>\n",
       "      <td>78992.15</td>\n",
       "      <td>1132.00</td>\n",
       "      <td>71976.41</td>\n",
       "      <td>72.58</td>\n",
       "      <td>5811.16</td>\n",
       "      <td>5677.40</td>\n",
       "      <td>133.76</td>\n",
       "      <td>0.0</td>\n",
       "      <td>conventional</td>\n",
       "      <td>2015.0</td>\n",
       "      <td>Albany</td>\n",
       "      <td>6.0</td>\n",
       "    </tr>\n",
       "    <tr>\n",
       "      <th>4</th>\n",
       "      <td>1.28</td>\n",
       "      <td>51039.60</td>\n",
       "      <td>941.48</td>\n",
       "      <td>43838.39</td>\n",
       "      <td>75.78</td>\n",
       "      <td>6183.95</td>\n",
       "      <td>5986.26</td>\n",
       "      <td>197.69</td>\n",
       "      <td>0.0</td>\n",
       "      <td>conventional</td>\n",
       "      <td>2015.0</td>\n",
       "      <td>Albany</td>\n",
       "      <td>11.0</td>\n",
       "    </tr>\n",
       "  </tbody>\n",
       "</table>\n",
       "</div>"
      ],
      "text/plain": [
       "   AveragePrice  Total Volume     4046       4225    4770  Total Bags  \\\n",
       "0          1.33      64236.62  1036.74   54454.85   48.16     8696.87   \n",
       "1          1.35      54876.98   674.28   44638.81   58.33     9505.56   \n",
       "2          0.93     118220.22   794.70  109149.67  130.50     8145.35   \n",
       "3          1.08      78992.15  1132.00   71976.41   72.58     5811.16   \n",
       "4          1.28      51039.60   941.48   43838.39   75.78     6183.95   \n",
       "\n",
       "   Small Bags  Large Bags  XLarge Bags          type    year  region  month  \n",
       "0     8603.62       93.25          0.0  conventional  2015.0  Albany   12.0  \n",
       "1     9408.07       97.49          0.0  conventional  2015.0  Albany   12.0  \n",
       "2     8042.21      103.14          0.0  conventional  2015.0  Albany   12.0  \n",
       "3     5677.40      133.76          0.0  conventional  2015.0  Albany    6.0  \n",
       "4     5986.26      197.69          0.0  conventional  2015.0  Albany   11.0  "
      ]
     },
     "execution_count": 10,
     "metadata": {},
     "output_type": "execute_result"
    }
   ],
   "source": [
    "df.head()"
   ]
  },
  {
   "cell_type": "code",
   "execution_count": 11,
   "metadata": {},
   "outputs": [
    {
     "data": {
      "text/plain": [
       "Index(['AveragePrice', 'Total Volume',\n",
       "       'Total number of avocados with PLU 4046 sold',\n",
       "       'Total number of avocados with PLU 4225 sold',\n",
       "       'Total number of avocados with PLU 4770 sold', 'Total Bags',\n",
       "       'Small Bags', 'Large Bags', 'XLarge Bags', 'type', 'year', 'region',\n",
       "       'month'],\n",
       "      dtype='object')"
      ]
     },
     "execution_count": 11,
     "metadata": {},
     "output_type": "execute_result"
    }
   ],
   "source": [
    "df = pd.DataFrame(df)\n",
    "df.rename(columns = {'4046':'Total number of avocados with PLU 4046 sold', '4225':'Total number of avocados with PLU 4225 sold', \n",
    "                              '4770':'Total number of avocados with PLU 4770 sold'}, inplace = True) \n",
    "(df.columns)"
   ]
  },
  {
   "cell_type": "code",
   "execution_count": 12,
   "metadata": {},
   "outputs": [
    {
     "data": {
      "text/plain": [
       "(16468, 13)"
      ]
     },
     "execution_count": 12,
     "metadata": {},
     "output_type": "execute_result"
    }
   ],
   "source": [
    "df.shape"
   ]
  },
  {
   "cell_type": "markdown",
   "metadata": {},
   "source": [
    "So we got 16468 rows and 13 columns"
   ]
  },
  {
   "cell_type": "code",
   "execution_count": 13,
   "metadata": {},
   "outputs": [
    {
     "data": {
      "text/plain": [
       "AveragePrice                                   float64\n",
       "Total Volume                                   float64\n",
       "Total number of avocados with PLU 4046 sold    float64\n",
       "Total number of avocados with PLU 4225 sold    float64\n",
       "Total number of avocados with PLU 4770 sold    float64\n",
       "Total Bags                                     float64\n",
       "Small Bags                                     float64\n",
       "Large Bags                                     float64\n",
       "XLarge Bags                                    float64\n",
       "type                                            object\n",
       "year                                           float64\n",
       "region                                          object\n",
       "month                                          float64\n",
       "dtype: object"
      ]
     },
     "execution_count": 13,
     "metadata": {},
     "output_type": "execute_result"
    }
   ],
   "source": [
    "df.dtypes"
   ]
  },
  {
   "cell_type": "markdown",
   "metadata": {},
   "source": [
    "# Statistical Summary"
   ]
  },
  {
   "cell_type": "code",
   "execution_count": 14,
   "metadata": {},
   "outputs": [
    {
     "data": {
      "text/html": [
       "<div>\n",
       "<style scoped>\n",
       "    .dataframe tbody tr th:only-of-type {\n",
       "        vertical-align: middle;\n",
       "    }\n",
       "\n",
       "    .dataframe tbody tr th {\n",
       "        vertical-align: top;\n",
       "    }\n",
       "\n",
       "    .dataframe thead th {\n",
       "        text-align: right;\n",
       "    }\n",
       "</style>\n",
       "<table border=\"1\" class=\"dataframe\">\n",
       "  <thead>\n",
       "    <tr style=\"text-align: right;\">\n",
       "      <th></th>\n",
       "      <th>AveragePrice</th>\n",
       "      <th>Total Volume</th>\n",
       "      <th>Total number of avocados with PLU 4046 sold</th>\n",
       "      <th>Total number of avocados with PLU 4225 sold</th>\n",
       "      <th>Total number of avocados with PLU 4770 sold</th>\n",
       "      <th>Total Bags</th>\n",
       "      <th>Small Bags</th>\n",
       "      <th>Large Bags</th>\n",
       "      <th>XLarge Bags</th>\n",
       "      <th>year</th>\n",
       "      <th>month</th>\n",
       "    </tr>\n",
       "  </thead>\n",
       "  <tbody>\n",
       "    <tr>\n",
       "      <th>count</th>\n",
       "      <td>1517.000000</td>\n",
       "      <td>1.517000e+03</td>\n",
       "      <td>1.517000e+03</td>\n",
       "      <td>1.517000e+03</td>\n",
       "      <td>1.517000e+03</td>\n",
       "      <td>1.517000e+03</td>\n",
       "      <td>1.517000e+03</td>\n",
       "      <td>1.517000e+03</td>\n",
       "      <td>1517.000000</td>\n",
       "      <td>1517.000000</td>\n",
       "      <td>1517.000000</td>\n",
       "    </tr>\n",
       "    <tr>\n",
       "      <th>mean</th>\n",
       "      <td>1.074990</td>\n",
       "      <td>1.601879e+06</td>\n",
       "      <td>6.464387e+05</td>\n",
       "      <td>6.114375e+05</td>\n",
       "      <td>5.040550e+04</td>\n",
       "      <td>2.935974e+05</td>\n",
       "      <td>2.487736e+05</td>\n",
       "      <td>4.264205e+04</td>\n",
       "      <td>2181.771074</td>\n",
       "      <td>2015.162821</td>\n",
       "      <td>6.362558</td>\n",
       "    </tr>\n",
       "    <tr>\n",
       "      <th>std</th>\n",
       "      <td>0.188891</td>\n",
       "      <td>4.433143e+06</td>\n",
       "      <td>1.947614e+06</td>\n",
       "      <td>1.672906e+06</td>\n",
       "      <td>1.377812e+05</td>\n",
       "      <td>7.579765e+05</td>\n",
       "      <td>6.474765e+05</td>\n",
       "      <td>1.182157e+05</td>\n",
       "      <td>7455.712144</td>\n",
       "      <td>0.369324</td>\n",
       "      <td>3.472146</td>\n",
       "    </tr>\n",
       "    <tr>\n",
       "      <th>min</th>\n",
       "      <td>0.490000</td>\n",
       "      <td>3.875074e+04</td>\n",
       "      <td>4.677200e+02</td>\n",
       "      <td>1.783770e+03</td>\n",
       "      <td>0.000000e+00</td>\n",
       "      <td>3.311770e+03</td>\n",
       "      <td>3.311770e+03</td>\n",
       "      <td>0.000000e+00</td>\n",
       "      <td>0.000000</td>\n",
       "      <td>2015.000000</td>\n",
       "      <td>1.000000</td>\n",
       "    </tr>\n",
       "    <tr>\n",
       "      <th>25%</th>\n",
       "      <td>0.980000</td>\n",
       "      <td>1.474700e+05</td>\n",
       "      <td>2.040034e+04</td>\n",
       "      <td>4.147606e+04</td>\n",
       "      <td>9.112500e+02</td>\n",
       "      <td>3.620689e+04</td>\n",
       "      <td>2.972722e+04</td>\n",
       "      <td>5.407400e+02</td>\n",
       "      <td>0.000000</td>\n",
       "      <td>2015.000000</td>\n",
       "      <td>3.000000</td>\n",
       "    </tr>\n",
       "    <tr>\n",
       "      <th>50%</th>\n",
       "      <td>1.080000</td>\n",
       "      <td>4.027919e+05</td>\n",
       "      <td>8.175117e+04</td>\n",
       "      <td>1.186649e+05</td>\n",
       "      <td>7.688170e+03</td>\n",
       "      <td>7.397906e+04</td>\n",
       "      <td>6.237569e+04</td>\n",
       "      <td>5.044350e+03</td>\n",
       "      <td>0.000000</td>\n",
       "      <td>2015.000000</td>\n",
       "      <td>6.000000</td>\n",
       "    </tr>\n",
       "    <tr>\n",
       "      <th>75%</th>\n",
       "      <td>1.190000</td>\n",
       "      <td>9.819751e+05</td>\n",
       "      <td>3.775785e+05</td>\n",
       "      <td>4.851503e+05</td>\n",
       "      <td>2.916730e+04</td>\n",
       "      <td>1.576097e+05</td>\n",
       "      <td>1.461994e+05</td>\n",
       "      <td>2.926767e+04</td>\n",
       "      <td>401.480000</td>\n",
       "      <td>2015.000000</td>\n",
       "      <td>9.000000</td>\n",
       "    </tr>\n",
       "    <tr>\n",
       "      <th>max</th>\n",
       "      <td>1.680000</td>\n",
       "      <td>4.465546e+07</td>\n",
       "      <td>1.893304e+07</td>\n",
       "      <td>1.895648e+07</td>\n",
       "      <td>1.381516e+06</td>\n",
       "      <td>6.736304e+06</td>\n",
       "      <td>5.893642e+06</td>\n",
       "      <td>1.121076e+06</td>\n",
       "      <td>108072.790000</td>\n",
       "      <td>2016.000000</td>\n",
       "      <td>12.000000</td>\n",
       "    </tr>\n",
       "  </tbody>\n",
       "</table>\n",
       "</div>"
      ],
      "text/plain": [
       "       AveragePrice  Total Volume  \\\n",
       "count   1517.000000  1.517000e+03   \n",
       "mean       1.074990  1.601879e+06   \n",
       "std        0.188891  4.433143e+06   \n",
       "min        0.490000  3.875074e+04   \n",
       "25%        0.980000  1.474700e+05   \n",
       "50%        1.080000  4.027919e+05   \n",
       "75%        1.190000  9.819751e+05   \n",
       "max        1.680000  4.465546e+07   \n",
       "\n",
       "       Total number of avocados with PLU 4046 sold  \\\n",
       "count                                 1.517000e+03   \n",
       "mean                                  6.464387e+05   \n",
       "std                                   1.947614e+06   \n",
       "min                                   4.677200e+02   \n",
       "25%                                   2.040034e+04   \n",
       "50%                                   8.175117e+04   \n",
       "75%                                   3.775785e+05   \n",
       "max                                   1.893304e+07   \n",
       "\n",
       "       Total number of avocados with PLU 4225 sold  \\\n",
       "count                                 1.517000e+03   \n",
       "mean                                  6.114375e+05   \n",
       "std                                   1.672906e+06   \n",
       "min                                   1.783770e+03   \n",
       "25%                                   4.147606e+04   \n",
       "50%                                   1.186649e+05   \n",
       "75%                                   4.851503e+05   \n",
       "max                                   1.895648e+07   \n",
       "\n",
       "       Total number of avocados with PLU 4770 sold    Total Bags  \\\n",
       "count                                 1.517000e+03  1.517000e+03   \n",
       "mean                                  5.040550e+04  2.935974e+05   \n",
       "std                                   1.377812e+05  7.579765e+05   \n",
       "min                                   0.000000e+00  3.311770e+03   \n",
       "25%                                   9.112500e+02  3.620689e+04   \n",
       "50%                                   7.688170e+03  7.397906e+04   \n",
       "75%                                   2.916730e+04  1.576097e+05   \n",
       "max                                   1.381516e+06  6.736304e+06   \n",
       "\n",
       "         Small Bags    Large Bags    XLarge Bags         year        month  \n",
       "count  1.517000e+03  1.517000e+03    1517.000000  1517.000000  1517.000000  \n",
       "mean   2.487736e+05  4.264205e+04    2181.771074  2015.162821     6.362558  \n",
       "std    6.474765e+05  1.182157e+05    7455.712144     0.369324     3.472146  \n",
       "min    3.311770e+03  0.000000e+00       0.000000  2015.000000     1.000000  \n",
       "25%    2.972722e+04  5.407400e+02       0.000000  2015.000000     3.000000  \n",
       "50%    6.237569e+04  5.044350e+03       0.000000  2015.000000     6.000000  \n",
       "75%    1.461994e+05  2.926767e+04     401.480000  2015.000000     9.000000  \n",
       "max    5.893642e+06  1.121076e+06  108072.790000  2016.000000    12.000000  "
      ]
     },
     "execution_count": 14,
     "metadata": {},
     "output_type": "execute_result"
    }
   ],
   "source": [
    "df.describe()"
   ]
  },
  {
   "cell_type": "markdown",
   "metadata": {},
   "source": [
    "number is quite high and not displaying here, we will check Outliers and Skewness in further step"
   ]
  },
  {
   "cell_type": "code",
   "execution_count": 15,
   "metadata": {},
   "outputs": [
    {
     "data": {
      "text/plain": [
       "AveragePrice                                   14951\n",
       "Total Volume                                   14951\n",
       "Total number of avocados with PLU 4046 sold    14951\n",
       "Total number of avocados with PLU 4225 sold    14951\n",
       "Total number of avocados with PLU 4770 sold    14951\n",
       "Total Bags                                     14951\n",
       "Small Bags                                     14951\n",
       "Large Bags                                     14951\n",
       "XLarge Bags                                    14951\n",
       "type                                           14951\n",
       "year                                           14951\n",
       "region                                         14951\n",
       "month                                          14951\n",
       "dtype: int64"
      ]
     },
     "execution_count": 15,
     "metadata": {},
     "output_type": "execute_result"
    }
   ],
   "source": [
    "df.isnull().sum()"
   ]
  },
  {
   "cell_type": "code",
   "execution_count": 16,
   "metadata": {},
   "outputs": [
    {
     "data": {
      "text/plain": [
       "<AxesSubplot:>"
      ]
     },
     "execution_count": 16,
     "metadata": {},
     "output_type": "execute_result"
    },
    {
     "data": {
      "image/png": "[encoded data removed]",
      "text/plain": [
       "<Figure size 432x288 with 2 Axes>"
      ]
     },
     "metadata": {
      "needs_background": "light"
     },
     "output_type": "display_data"
    }
   ],
   "source": [
    "sns.heatmap(df.isnull())"
   ]
  },
  {
   "cell_type": "code",
   "execution_count": 17,
   "metadata": {},
   "outputs": [
    {
     "data": {
      "text/html": [
       "<div>\n",
       "<style scoped>\n",
       "    .dataframe tbody tr th:only-of-type {\n",
       "        vertical-align: middle;\n",
       "    }\n",
       "\n",
       "    .dataframe tbody tr th {\n",
       "        vertical-align: top;\n",
       "    }\n",
       "\n",
       "    .dataframe thead th {\n",
       "        text-align: right;\n",
       "    }\n",
       "</style>\n",
       "<table border=\"1\" class=\"dataframe\">\n",
       "  <thead>\n",
       "    <tr style=\"text-align: right;\">\n",
       "      <th></th>\n",
       "      <th>AveragePrice</th>\n",
       "      <th>Total Volume</th>\n",
       "      <th>Total number of avocados with PLU 4046 sold</th>\n",
       "      <th>Total number of avocados with PLU 4225 sold</th>\n",
       "      <th>Total number of avocados with PLU 4770 sold</th>\n",
       "      <th>Total Bags</th>\n",
       "      <th>Small Bags</th>\n",
       "      <th>Large Bags</th>\n",
       "      <th>XLarge Bags</th>\n",
       "      <th>type</th>\n",
       "      <th>year</th>\n",
       "      <th>region</th>\n",
       "      <th>month</th>\n",
       "    </tr>\n",
       "  </thead>\n",
       "  <tbody>\n",
       "    <tr>\n",
       "      <th>0</th>\n",
       "      <td>False</td>\n",
       "      <td>False</td>\n",
       "      <td>False</td>\n",
       "      <td>False</td>\n",
       "      <td>False</td>\n",
       "      <td>False</td>\n",
       "      <td>False</td>\n",
       "      <td>False</td>\n",
       "      <td>False</td>\n",
       "      <td>False</td>\n",
       "      <td>False</td>\n",
       "      <td>False</td>\n",
       "      <td>False</td>\n",
       "    </tr>\n",
       "    <tr>\n",
       "      <th>1</th>\n",
       "      <td>False</td>\n",
       "      <td>False</td>\n",
       "      <td>False</td>\n",
       "      <td>False</td>\n",
       "      <td>False</td>\n",
       "      <td>False</td>\n",
       "      <td>False</td>\n",
       "      <td>False</td>\n",
       "      <td>False</td>\n",
       "      <td>False</td>\n",
       "      <td>False</td>\n",
       "      <td>False</td>\n",
       "      <td>False</td>\n",
       "    </tr>\n",
       "    <tr>\n",
       "      <th>2</th>\n",
       "      <td>False</td>\n",
       "      <td>False</td>\n",
       "      <td>False</td>\n",
       "      <td>False</td>\n",
       "      <td>False</td>\n",
       "      <td>False</td>\n",
       "      <td>False</td>\n",
       "      <td>False</td>\n",
       "      <td>False</td>\n",
       "      <td>False</td>\n",
       "      <td>False</td>\n",
       "      <td>False</td>\n",
       "      <td>False</td>\n",
       "    </tr>\n",
       "    <tr>\n",
       "      <th>3</th>\n",
       "      <td>False</td>\n",
       "      <td>False</td>\n",
       "      <td>False</td>\n",
       "      <td>False</td>\n",
       "      <td>False</td>\n",
       "      <td>False</td>\n",
       "      <td>False</td>\n",
       "      <td>False</td>\n",
       "      <td>False</td>\n",
       "      <td>False</td>\n",
       "      <td>False</td>\n",
       "      <td>False</td>\n",
       "      <td>False</td>\n",
       "    </tr>\n",
       "    <tr>\n",
       "      <th>4</th>\n",
       "      <td>False</td>\n",
       "      <td>False</td>\n",
       "      <td>False</td>\n",
       "      <td>False</td>\n",
       "      <td>False</td>\n",
       "      <td>False</td>\n",
       "      <td>False</td>\n",
       "      <td>False</td>\n",
       "      <td>False</td>\n",
       "      <td>False</td>\n",
       "      <td>False</td>\n",
       "      <td>False</td>\n",
       "      <td>False</td>\n",
       "    </tr>\n",
       "    <tr>\n",
       "      <th>...</th>\n",
       "      <td>...</td>\n",
       "      <td>...</td>\n",
       "      <td>...</td>\n",
       "      <td>...</td>\n",
       "      <td>...</td>\n",
       "      <td>...</td>\n",
       "      <td>...</td>\n",
       "      <td>...</td>\n",
       "      <td>...</td>\n",
       "      <td>...</td>\n",
       "      <td>...</td>\n",
       "      <td>...</td>\n",
       "      <td>...</td>\n",
       "    </tr>\n",
       "    <tr>\n",
       "      <th>16463</th>\n",
       "      <td>True</td>\n",
       "      <td>True</td>\n",
       "      <td>True</td>\n",
       "      <td>True</td>\n",
       "      <td>True</td>\n",
       "      <td>True</td>\n",
       "      <td>True</td>\n",
       "      <td>True</td>\n",
       "      <td>True</td>\n",
       "      <td>True</td>\n",
       "      <td>True</td>\n",
       "      <td>True</td>\n",
       "      <td>True</td>\n",
       "    </tr>\n",
       "    <tr>\n",
       "      <th>16464</th>\n",
       "      <td>True</td>\n",
       "      <td>True</td>\n",
       "      <td>True</td>\n",
       "      <td>True</td>\n",
       "      <td>True</td>\n",
       "      <td>True</td>\n",
       "      <td>True</td>\n",
       "      <td>True</td>\n",
       "      <td>True</td>\n",
       "      <td>True</td>\n",
       "      <td>True</td>\n",
       "      <td>True</td>\n",
       "      <td>True</td>\n",
       "    </tr>\n",
       "    <tr>\n",
       "      <th>16465</th>\n",
       "      <td>True</td>\n",
       "      <td>True</td>\n",
       "      <td>True</td>\n",
       "      <td>True</td>\n",
       "      <td>True</td>\n",
       "      <td>True</td>\n",
       "      <td>True</td>\n",
       "      <td>True</td>\n",
       "      <td>True</td>\n",
       "      <td>True</td>\n",
       "      <td>True</td>\n",
       "      <td>True</td>\n",
       "      <td>True</td>\n",
       "    </tr>\n",
       "    <tr>\n",
       "      <th>16466</th>\n",
       "      <td>True</td>\n",
       "      <td>True</td>\n",
       "      <td>True</td>\n",
       "      <td>True</td>\n",
       "      <td>True</td>\n",
       "      <td>True</td>\n",
       "      <td>True</td>\n",
       "      <td>True</td>\n",
       "      <td>True</td>\n",
       "      <td>True</td>\n",
       "      <td>True</td>\n",
       "      <td>True</td>\n",
       "      <td>True</td>\n",
       "    </tr>\n",
       "    <tr>\n",
       "      <th>16467</th>\n",
       "      <td>True</td>\n",
       "      <td>True</td>\n",
       "      <td>True</td>\n",
       "      <td>True</td>\n",
       "      <td>True</td>\n",
       "      <td>True</td>\n",
       "      <td>True</td>\n",
       "      <td>True</td>\n",
       "      <td>True</td>\n",
       "      <td>True</td>\n",
       "      <td>True</td>\n",
       "      <td>True</td>\n",
       "      <td>True</td>\n",
       "    </tr>\n",
       "  </tbody>\n",
       "</table>\n",
       "<p>16468 rows × 13 columns</p>\n",
       "</div>"
      ],
      "text/plain": [
       "       AveragePrice  Total Volume  \\\n",
       "0             False         False   \n",
       "1             False         False   \n",
       "2             False         False   \n",
       "3             False         False   \n",
       "4             False         False   \n",
       "...             ...           ...   \n",
       "16463          True          True   \n",
       "16464          True          True   \n",
       "16465          True          True   \n",
       "16466          True          True   \n",
       "16467          True          True   \n",
       "\n",
       "       Total number of avocados with PLU 4046 sold  \\\n",
       "0                                            False   \n",
       "1                                            False   \n",
       "2                                            False   \n",
       "3                                            False   \n",
       "4                                            False   \n",
       "...                                            ...   \n",
       "16463                                         True   \n",
       "16464                                         True   \n",
       "16465                                         True   \n",
       "16466                                         True   \n",
       "16467                                         True   \n",
       "\n",
       "       Total number of avocados with PLU 4225 sold  \\\n",
       "0                                            False   \n",
       "1                                            False   \n",
       "2                                            False   \n",
       "3                                            False   \n",
       "4                                            False   \n",
       "...                                            ...   \n",
       "16463                                         True   \n",
       "16464                                         True   \n",
       "16465                                         True   \n",
       "16466                                         True   \n",
       "16467                                         True   \n",
       "\n",
       "       Total number of avocados with PLU 4770 sold  Total Bags  Small Bags  \\\n",
       "0                                            False       False       False   \n",
       "1                                            False       False       False   \n",
       "2                                            False       False       False   \n",
       "3                                            False       False       False   \n",
       "4                                            False       False       False   \n",
       "...                                            ...         ...         ...   \n",
       "16463                                         True        True        True   \n",
       "16464                                         True        True        True   \n",
       "16465                                         True        True        True   \n",
       "16466                                         True        True        True   \n",
       "16467                                         True        True        True   \n",
       "\n",
       "       Large Bags  XLarge Bags   type   year  region  month  \n",
       "0           False        False  False  False   False  False  \n",
       "1           False        False  False  False   False  False  \n",
       "2           False        False  False  False   False  False  \n",
       "3           False        False  False  False   False  False  \n",
       "4           False        False  False  False   False  False  \n",
       "...           ...          ...    ...    ...     ...    ...  \n",
       "16463        True         True   True   True    True   True  \n",
       "16464        True         True   True   True    True   True  \n",
       "16465        True         True   True   True    True   True  \n",
       "16466        True         True   True   True    True   True  \n",
       "16467        True         True   True   True    True   True  \n",
       "\n",
       "[16468 rows x 13 columns]"
      ]
     },
     "execution_count": 17,
     "metadata": {},
     "output_type": "execute_result"
    }
   ],
   "source": [
    "df.isnull()"
   ]
  },
  {
   "cell_type": "markdown",
   "metadata": {},
   "source": [
    "As we can see from the above data that null values are present in the data set"
   ]
  },
  {
   "cell_type": "markdown",
   "metadata": {},
   "source": [
    "# Filling the missing values"
   ]
  },
  {
   "cell_type": "code",
   "execution_count": 18,
   "metadata": {},
   "outputs": [],
   "source": [
    "df[\"AveragePrice\"]=df[\"AveragePrice\"].fillna(df[\"AveragePrice\"].mean())\n",
    "df[\"Total Volume\"]=df[\"Total Volume\"].fillna(df[\"Total Volume\"].mean())\n",
    "df[\"Total number of avocados with PLU 4046 sold\"]=df[\"Total number of avocados with PLU 4046 sold\"].fillna(df[\"Total number of avocados with PLU 4046 sold\"].mean())\n",
    "df[\"Total number of avocados with PLU 4225 sold\"]=df[\"Total number of avocados with PLU 4225 sold\"].fillna(df[\"Total number of avocados with PLU 4225 sold\"].mean())\n",
    "df[\"Total number of avocados with PLU 4770 sold\"]=df[\"Total number of avocados with PLU 4770 sold\"].fillna(df[\"Total number of avocados with PLU 4770 sold\"].mean())\n",
    "df[\"Total Bags\"]=df[\"Total Bags\"].fillna(df[\"Total Bags\"].median())\n",
    "df[\"Small Bags\"]=df[\"Small Bags\"].fillna(df[\"Small Bags\"].median())\n",
    "df[\"Large Bags\"]=df[\"Large Bags\"].fillna(df[\"Large Bags\"].median())\n",
    "df[\"XLarge Bags\"]=df[\"XLarge Bags\"].fillna(method=\"ffill\")\n",
    "df[\"type\"]=df[\"type\"].fillna(method=\"ffill\")\n",
    "df[\"year\"]=df[\"year\"].fillna(method=\"ffill\")\n",
    "df[\"month\"]=df[\"month\"].fillna(method=\"ffill\")\n",
    "df[\"region\"]=df[\"region\"].fillna(method=\"ffill\")"
   ]
  },
  {
   "cell_type": "code",
   "execution_count": 19,
   "metadata": {},
   "outputs": [
    {
     "data": {
      "text/plain": [
       "AveragePrice                                   0\n",
       "Total Volume                                   0\n",
       "Total number of avocados with PLU 4046 sold    0\n",
       "Total number of avocados with PLU 4225 sold    0\n",
       "Total number of avocados with PLU 4770 sold    0\n",
       "Total Bags                                     0\n",
       "Small Bags                                     0\n",
       "Large Bags                                     0\n",
       "XLarge Bags                                    0\n",
       "type                                           0\n",
       "year                                           0\n",
       "region                                         0\n",
       "month                                          0\n",
       "dtype: int64"
      ]
     },
     "execution_count": 19,
     "metadata": {},
     "output_type": "execute_result"
    }
   ],
   "source": [
    "df.isnull().sum()"
   ]
  },
  {
   "cell_type": "code",
   "execution_count": 20,
   "metadata": {},
   "outputs": [
    {
     "data": {
      "text/plain": [
       "array([1.33      , 1.35      , 0.93      , 1.08      , 1.28      ,\n",
       "       1.26      , 0.99      , 0.98      , 1.02      , 1.07      ,\n",
       "       1.12      , 1.31      , 1.11      , 1.34      , 1.45      ,\n",
       "       1.05      , 1.37      , 1.27      , 1.32      , 1.23      ,\n",
       "       1.19      , 1.43      , 1.2       , 1.22      , 1.13      ,\n",
       "       1.16      , 1.06      , 1.17      , 1.24      , 0.96      ,\n",
       "       1.        , 1.09      , 0.95      , 0.97      , 1.15      ,\n",
       "       1.01      , 1.14      , 1.1       , 1.04      , 1.18      ,\n",
       "       1.29      , 1.25      , 1.03      , 1.39      , 1.4       ,\n",
       "       1.36      , 1.3       , 0.88      , 1.21      , 0.9       ,\n",
       "       0.94      , 0.75      , 0.77      , 0.81      , 0.8       ,\n",
       "       0.72      , 0.79      , 0.67      , 0.82      , 0.68      ,\n",
       "       0.76      , 0.91      , 1.38      , 0.92      , 0.78      ,\n",
       "       0.74      , 0.62      , 0.83      , 0.87      , 0.73      ,\n",
       "       0.7       , 0.89      , 0.85      , 1.44      , 1.42      ,\n",
       "       1.41      , 0.49      , 0.53      , 0.66      , 0.56      ,\n",
       "       0.6       , 0.71      , 0.65      , 0.58      , 0.54      ,\n",
       "       0.52      , 0.51      , 0.57      , 0.63      , 0.64      ,\n",
       "       0.61      , 0.84      , 0.86      , 0.69      , 1.52      ,\n",
       "       1.53      , 1.49      , 1.48      , 1.56      , 1.62      ,\n",
       "       1.63      , 1.46      , 1.51      , 1.61      , 1.47      ,\n",
       "       1.66      , 1.57      , 1.6       , 1.5       , 1.68      ,\n",
       "       1.54      , 1.64      , 1.58      , 1.07499011])"
      ]
     },
     "execution_count": 20,
     "metadata": {},
     "output_type": "execute_result"
    }
   ],
   "source": [
    "df[\"AveragePrice\"].unique()"
   ]
  },
  {
   "cell_type": "code",
   "execution_count": 21,
   "metadata": {},
   "outputs": [
    {
     "data": {
      "text/plain": [
       "1.07499    14951\n",
       "1.08000       46\n",
       "0.99000       44\n",
       "1.03000       44\n",
       "1.09000       43\n",
       "           ...  \n",
       "1.49000        1\n",
       "0.49000        1\n",
       "1.53000        1\n",
       "1.54000        1\n",
       "1.61000        1\n",
       "Name: AveragePrice, Length: 114, dtype: int64"
      ]
     },
     "execution_count": 21,
     "metadata": {},
     "output_type": "execute_result"
    }
   ],
   "source": [
    "df[\"AveragePrice\"].value_counts()"
   ]
  },
  {
   "cell_type": "markdown",
   "metadata": {},
   "source": [
    "# Bi-Variate Analysis"
   ]
  },
  {
   "cell_type": "code",
   "execution_count": 22,
   "metadata": {},
   "outputs": [
    {
     "data": {
      "text/plain": [
       "<AxesSubplot:xlabel='Total number of avocados with PLU 4046 sold', ylabel='Total number of avocados with PLU 4225 sold'>"
      ]
     },
     "execution_count": 22,
     "metadata": {},
     "output_type": "execute_result"
    },
    {
     "data": {
      "image/png": "[encoded data removed]",
      "text/plain": [
       "<Figure size 432x288 with 1 Axes>"
      ]
     },
     "metadata": {
      "needs_background": "light"
     },
     "output_type": "display_data"
    }
   ],
   "source": [
    "sns.scatterplot(x=\"Total number of avocados with PLU 4046 sold\",y=\"Total number of avocados with PLU 4225 sold\",data=df)"
   ]
  },
  {
   "cell_type": "markdown",
   "metadata": {},
   "source": [
    "As we can see from the plot that 4225 is in less Quantity and sold more than 4046"
   ]
  },
  {
   "cell_type": "code",
   "execution_count": 23,
   "metadata": {},
   "outputs": [
    {
     "data": {
      "text/plain": [
       "<AxesSubplot:xlabel='Small Bags', ylabel='Large Bags'>"
      ]
     },
     "execution_count": 23,
     "metadata": {},
     "output_type": "execute_result"
    },
    {
     "data": {
      "image/png": "[encoded data removed]",
      "text/plain": [
       "<Figure size 432x288 with 1 Axes>"
      ]
     },
     "metadata": {
      "needs_background": "light"
     },
     "output_type": "display_data"
    }
   ],
   "source": [
    "sns.scatterplot(x=\"Small Bags\",y=\"Large Bags\",data=df,hue=\"AveragePrice\")"
   ]
  },
  {
   "cell_type": "markdown",
   "metadata": {},
   "source": [
    "As we can see that Small Bags are more number than Large Bags, that means more Avacado is been sold through Small Bags and we can see that avacado which is 0.6 average price sold more than 1.6"
   ]
  },
  {
   "cell_type": "code",
   "execution_count": 24,
   "metadata": {},
   "outputs": [
    {
     "data": {
      "text/plain": [
       "<AxesSubplot:xlabel='Total Bags', ylabel='year'>"
      ]
     },
     "execution_count": 24,
     "metadata": {},
     "output_type": "execute_result"
    },
    {
     "data": {
      "image/png": "[encoded data removed]",
      "text/plain": [
       "<Figure size 432x288 with 1 Axes>"
      ]
     },
     "metadata": {
      "needs_background": "light"
     },
     "output_type": "display_data"
    }
   ],
   "source": [
    "sns.scatterplot(x=\"Total Bags\",y=\"year\",data=df)"
   ]
  },
  {
   "cell_type": "markdown",
   "metadata": {},
   "source": [
    "in 2015 number of total bags has more sold than 2016"
   ]
  },
  {
   "cell_type": "code",
   "execution_count": 25,
   "metadata": {},
   "outputs": [
    {
     "data": {
      "text/html": [
       "<div>\n",
       "<style scoped>\n",
       "    .dataframe tbody tr th:only-of-type {\n",
       "        vertical-align: middle;\n",
       "    }\n",
       "\n",
       "    .dataframe tbody tr th {\n",
       "        vertical-align: top;\n",
       "    }\n",
       "\n",
       "    .dataframe thead th {\n",
       "        text-align: right;\n",
       "    }\n",
       "</style>\n",
       "<table border=\"1\" class=\"dataframe\">\n",
       "  <thead>\n",
       "    <tr style=\"text-align: right;\">\n",
       "      <th></th>\n",
       "      <th>AveragePrice</th>\n",
       "      <th>Total Volume</th>\n",
       "      <th>Total number of avocados with PLU 4046 sold</th>\n",
       "      <th>Total number of avocados with PLU 4225 sold</th>\n",
       "      <th>Total number of avocados with PLU 4770 sold</th>\n",
       "      <th>Total Bags</th>\n",
       "      <th>Small Bags</th>\n",
       "      <th>Large Bags</th>\n",
       "      <th>XLarge Bags</th>\n",
       "      <th>year</th>\n",
       "      <th>month</th>\n",
       "    </tr>\n",
       "  </thead>\n",
       "  <tbody>\n",
       "    <tr>\n",
       "      <th>AveragePrice</th>\n",
       "      <td>1.000000</td>\n",
       "      <td>-0.140470</td>\n",
       "      <td>-0.190096</td>\n",
       "      <td>-0.092084</td>\n",
       "      <td>-0.100567</td>\n",
       "      <td>-0.107570</td>\n",
       "      <td>-0.094200</td>\n",
       "      <td>-0.169848</td>\n",
       "      <td>-0.046509</td>\n",
       "      <td>0.075053</td>\n",
       "      <td>0.049120</td>\n",
       "    </tr>\n",
       "    <tr>\n",
       "      <th>Total Volume</th>\n",
       "      <td>-0.140470</td>\n",
       "      <td>1.000000</td>\n",
       "      <td>0.985568</td>\n",
       "      <td>0.987154</td>\n",
       "      <td>0.934347</td>\n",
       "      <td>0.932772</td>\n",
       "      <td>0.926399</td>\n",
       "      <td>0.871082</td>\n",
       "      <td>0.502535</td>\n",
       "      <td>-0.001759</td>\n",
       "      <td>-0.044721</td>\n",
       "    </tr>\n",
       "    <tr>\n",
       "      <th>Total number of avocados with PLU 4046 sold</th>\n",
       "      <td>-0.190096</td>\n",
       "      <td>0.985568</td>\n",
       "      <td>1.000000</td>\n",
       "      <td>0.951952</td>\n",
       "      <td>0.898570</td>\n",
       "      <td>0.896824</td>\n",
       "      <td>0.889403</td>\n",
       "      <td>0.846203</td>\n",
       "      <td>0.456634</td>\n",
       "      <td>-0.016986</td>\n",
       "      <td>-0.042935</td>\n",
       "    </tr>\n",
       "    <tr>\n",
       "      <th>Total number of avocados with PLU 4225 sold</th>\n",
       "      <td>-0.092084</td>\n",
       "      <td>0.987154</td>\n",
       "      <td>0.951952</td>\n",
       "      <td>1.000000</td>\n",
       "      <td>0.927757</td>\n",
       "      <td>0.917436</td>\n",
       "      <td>0.910339</td>\n",
       "      <td>0.861770</td>\n",
       "      <td>0.486162</td>\n",
       "      <td>-0.003047</td>\n",
       "      <td>-0.047327</td>\n",
       "    </tr>\n",
       "    <tr>\n",
       "      <th>Total number of avocados with PLU 4770 sold</th>\n",
       "      <td>-0.100567</td>\n",
       "      <td>0.934347</td>\n",
       "      <td>0.898570</td>\n",
       "      <td>0.927757</td>\n",
       "      <td>1.000000</td>\n",
       "      <td>0.892978</td>\n",
       "      <td>0.890685</td>\n",
       "      <td>0.804376</td>\n",
       "      <td>0.622300</td>\n",
       "      <td>0.012274</td>\n",
       "      <td>-0.044614</td>\n",
       "    </tr>\n",
       "    <tr>\n",
       "      <th>Total Bags</th>\n",
       "      <td>-0.107570</td>\n",
       "      <td>0.932772</td>\n",
       "      <td>0.896824</td>\n",
       "      <td>0.917436</td>\n",
       "      <td>0.892978</td>\n",
       "      <td>1.000000</td>\n",
       "      <td>0.997527</td>\n",
       "      <td>0.917901</td>\n",
       "      <td>0.630329</td>\n",
       "      <td>-0.205098</td>\n",
       "      <td>-0.193391</td>\n",
       "    </tr>\n",
       "    <tr>\n",
       "      <th>Small Bags</th>\n",
       "      <td>-0.094200</td>\n",
       "      <td>0.926399</td>\n",
       "      <td>0.889403</td>\n",
       "      <td>0.910339</td>\n",
       "      <td>0.890685</td>\n",
       "      <td>0.997527</td>\n",
       "      <td>1.000000</td>\n",
       "      <td>0.888100</td>\n",
       "      <td>0.638928</td>\n",
       "      <td>-0.197048</td>\n",
       "      <td>-0.193437</td>\n",
       "    </tr>\n",
       "    <tr>\n",
       "      <th>Large Bags</th>\n",
       "      <td>-0.169848</td>\n",
       "      <td>0.871082</td>\n",
       "      <td>0.846203</td>\n",
       "      <td>0.861770</td>\n",
       "      <td>0.804376</td>\n",
       "      <td>0.917901</td>\n",
       "      <td>0.888100</td>\n",
       "      <td>1.000000</td>\n",
       "      <td>0.490708</td>\n",
       "      <td>-0.270780</td>\n",
       "      <td>-0.200548</td>\n",
       "    </tr>\n",
       "    <tr>\n",
       "      <th>XLarge Bags</th>\n",
       "      <td>-0.046509</td>\n",
       "      <td>0.502535</td>\n",
       "      <td>0.456634</td>\n",
       "      <td>0.486162</td>\n",
       "      <td>0.622300</td>\n",
       "      <td>0.630329</td>\n",
       "      <td>0.638928</td>\n",
       "      <td>0.490708</td>\n",
       "      <td>1.000000</td>\n",
       "      <td>-0.155476</td>\n",
       "      <td>-0.140819</td>\n",
       "    </tr>\n",
       "    <tr>\n",
       "      <th>year</th>\n",
       "      <td>0.075053</td>\n",
       "      <td>-0.001759</td>\n",
       "      <td>-0.016986</td>\n",
       "      <td>-0.003047</td>\n",
       "      <td>0.012274</td>\n",
       "      <td>-0.205098</td>\n",
       "      <td>-0.197048</td>\n",
       "      <td>-0.270780</td>\n",
       "      <td>-0.155476</td>\n",
       "      <td>1.000000</td>\n",
       "      <td>0.527728</td>\n",
       "    </tr>\n",
       "    <tr>\n",
       "      <th>month</th>\n",
       "      <td>0.049120</td>\n",
       "      <td>-0.044721</td>\n",
       "      <td>-0.042935</td>\n",
       "      <td>-0.047327</td>\n",
       "      <td>-0.044614</td>\n",
       "      <td>-0.193391</td>\n",
       "      <td>-0.193437</td>\n",
       "      <td>-0.200548</td>\n",
       "      <td>-0.140819</td>\n",
       "      <td>0.527728</td>\n",
       "      <td>1.000000</td>\n",
       "    </tr>\n",
       "  </tbody>\n",
       "</table>\n",
       "</div>"
      ],
      "text/plain": [
       "                                             AveragePrice  Total Volume  \\\n",
       "AveragePrice                                     1.000000     -0.140470   \n",
       "Total Volume                                    -0.140470      1.000000   \n",
       "Total number of avocados with PLU 4046 sold     -0.190096      0.985568   \n",
       "Total number of avocados with PLU 4225 sold     -0.092084      0.987154   \n",
       "Total number of avocados with PLU 4770 sold     -0.100567      0.934347   \n",
       "Total Bags                                      -0.107570      0.932772   \n",
       "Small Bags                                      -0.094200      0.926399   \n",
       "Large Bags                                      -0.169848      0.871082   \n",
       "XLarge Bags                                     -0.046509      0.502535   \n",
       "year                                             0.075053     -0.001759   \n",
       "month                                            0.049120     -0.044721   \n",
       "\n",
       "                                             Total number of avocados with PLU 4046 sold  \\\n",
       "AveragePrice                                                                   -0.190096   \n",
       "Total Volume                                                                    0.985568   \n",
       "Total number of avocados with PLU 4046 sold                                     1.000000   \n",
       "Total number of avocados with PLU 4225 sold                                     0.951952   \n",
       "Total number of avocados with PLU 4770 sold                                     0.898570   \n",
       "Total Bags                                                                      0.896824   \n",
       "Small Bags                                                                      0.889403   \n",
       "Large Bags                                                                      0.846203   \n",
       "XLarge Bags                                                                     0.456634   \n",
       "year                                                                           -0.016986   \n",
       "month                                                                          -0.042935   \n",
       "\n",
       "                                             Total number of avocados with PLU 4225 sold  \\\n",
       "AveragePrice                                                                   -0.092084   \n",
       "Total Volume                                                                    0.987154   \n",
       "Total number of avocados with PLU 4046 sold                                     0.951952   \n",
       "Total number of avocados with PLU 4225 sold                                     1.000000   \n",
       "Total number of avocados with PLU 4770 sold                                     0.927757   \n",
       "Total Bags                                                                      0.917436   \n",
       "Small Bags                                                                      0.910339   \n",
       "Large Bags                                                                      0.861770   \n",
       "XLarge Bags                                                                     0.486162   \n",
       "year                                                                           -0.003047   \n",
       "month                                                                          -0.047327   \n",
       "\n",
       "                                             Total number of avocados with PLU 4770 sold  \\\n",
       "AveragePrice                                                                   -0.100567   \n",
       "Total Volume                                                                    0.934347   \n",
       "Total number of avocados with PLU 4046 sold                                     0.898570   \n",
       "Total number of avocados with PLU 4225 sold                                     0.927757   \n",
       "Total number of avocados with PLU 4770 sold                                     1.000000   \n",
       "Total Bags                                                                      0.892978   \n",
       "Small Bags                                                                      0.890685   \n",
       "Large Bags                                                                      0.804376   \n",
       "XLarge Bags                                                                     0.622300   \n",
       "year                                                                            0.012274   \n",
       "month                                                                          -0.044614   \n",
       "\n",
       "                                             Total Bags  Small Bags  \\\n",
       "AveragePrice                                  -0.107570   -0.094200   \n",
       "Total Volume                                   0.932772    0.926399   \n",
       "Total number of avocados with PLU 4046 sold    0.896824    0.889403   \n",
       "Total number of avocados with PLU 4225 sold    0.917436    0.910339   \n",
       "Total number of avocados with PLU 4770 sold    0.892978    0.890685   \n",
       "Total Bags                                     1.000000    0.997527   \n",
       "Small Bags                                     0.997527    1.000000   \n",
       "Large Bags                                     0.917901    0.888100   \n",
       "XLarge Bags                                    0.630329    0.638928   \n",
       "year                                          -0.205098   -0.197048   \n",
       "month                                         -0.193391   -0.193437   \n",
       "\n",
       "                                             Large Bags  XLarge Bags  \\\n",
       "AveragePrice                                  -0.169848    -0.046509   \n",
       "Total Volume                                   0.871082     0.502535   \n",
       "Total number of avocados with PLU 4046 sold    0.846203     0.456634   \n",
       "Total number of avocados with PLU 4225 sold    0.861770     0.486162   \n",
       "Total number of avocados with PLU 4770 sold    0.804376     0.622300   \n",
       "Total Bags                                     0.917901     0.630329   \n",
       "Small Bags                                     0.888100     0.638928   \n",
       "Large Bags                                     1.000000     0.490708   \n",
       "XLarge Bags                                    0.490708     1.000000   \n",
       "year                                          -0.270780    -0.155476   \n",
       "month                                         -0.200548    -0.140819   \n",
       "\n",
       "                                                 year     month  \n",
       "AveragePrice                                 0.075053  0.049120  \n",
       "Total Volume                                -0.001759 -0.044721  \n",
       "Total number of avocados with PLU 4046 sold -0.016986 -0.042935  \n",
       "Total number of avocados with PLU 4225 sold -0.003047 -0.047327  \n",
       "Total number of avocados with PLU 4770 sold  0.012274 -0.044614  \n",
       "Total Bags                                  -0.205098 -0.193391  \n",
       "Small Bags                                  -0.197048 -0.193437  \n",
       "Large Bags                                  -0.270780 -0.200548  \n",
       "XLarge Bags                                 -0.155476 -0.140819  \n",
       "year                                         1.000000  0.527728  \n",
       "month                                        0.527728  1.000000  "
      ]
     },
     "execution_count": 25,
     "metadata": {},
     "output_type": "execute_result"
    }
   ],
   "source": [
    "cor=df.corr()\n",
    "cor"
   ]
  },
  {
   "cell_type": "code",
   "execution_count": 26,
   "metadata": {},
   "outputs": [
    {
     "data": {
      "text/plain": [
       "<AxesSubplot:>"
      ]
     },
     "execution_count": 26,
     "metadata": {},
     "output_type": "execute_result"
    },
    {
     "data": {
      "image/png": "[encoded data removed]",
      "text/plain": [
       "<Figure size 720x432 with 2 Axes>"
      ]
     },
     "metadata": {
      "needs_background": "light"
     },
     "output_type": "display_data"
    }
   ],
   "source": [
    "plt.figure(figsize=(10,6))\n",
    "sns.heatmap(cor,cmap='YlOrRd_r',annot=True)"
   ]
  },
  {
   "cell_type": "markdown",
   "metadata": {},
   "source": [
    "# Data Preprocessing"
   ]
  },
  {
   "cell_type": "code",
   "execution_count": 27,
   "metadata": {},
   "outputs": [
    {
     "data": {
      "image/png": "[encoded data removed]",
      "text/plain": [
       "<Figure size 720x720 with 18 Axes>"
      ]
     },
     "metadata": {
      "needs_background": "light"
     },
     "output_type": "display_data"
    }
   ],
   "source": [
    "df.plot(kind=\"box\",subplots=True,layout=(2,9),sharex=False,legend=False,fontsize=1,figsize=(10,10))\n",
    "plt.show()"
   ]
  },
  {
   "cell_type": "markdown",
   "metadata": {},
   "source": [
    "outliers are present in the data set"
   ]
  },
  {
   "cell_type": "code",
   "execution_count": 28,
   "metadata": {},
   "outputs": [
    {
     "data": {
      "image/png": "[encoded data removed]",
      "text/plain": [
       "<Figure size 720x720 with 18 Axes>"
      ]
     },
     "metadata": {
      "needs_background": "light"
     },
     "output_type": "display_data"
    }
   ],
   "source": [
    "df.plot(kind=\"density\",subplots=True,layout=(2,9),sharex=False,legend=False,fontsize=1,figsize=(10,10))\n",
    "plt.show()"
   ]
  },
  {
   "cell_type": "code",
   "execution_count": 29,
   "metadata": {},
   "outputs": [
    {
     "data": {
      "text/plain": [
       "AveragePrice                                   -0.360270\n",
       "Total Volume                                   20.409801\n",
       "Total number of avocados with PLU 4046 sold    19.921599\n",
       "Total number of avocados with PLU 4225 sold    21.051013\n",
       "Total number of avocados with PLU 4770 sold    17.792883\n",
       "Total Bags                                     18.204036\n",
       "Small Bags                                     18.179783\n",
       "Large Bags                                     17.413970\n",
       "XLarge Bags                                    19.392479\n",
       "year                                           -3.170540\n",
       "month                                          -4.015520\n",
       "dtype: float64"
      ]
     },
     "execution_count": 29,
     "metadata": {},
     "output_type": "execute_result"
    }
   ],
   "source": [
    "df.skew()"
   ]
  },
  {
   "cell_type": "markdown",
   "metadata": {},
   "source": [
    "very high skewness are present in the data set"
   ]
  },
  {
   "cell_type": "code",
   "execution_count": 30,
   "metadata": {},
   "outputs": [],
   "source": [
    "from sklearn.preprocessing import OneHotEncoder\n",
    "df = pd.get_dummies(df)"
   ]
  },
  {
   "cell_type": "code",
   "execution_count": 31,
   "metadata": {},
   "outputs": [
    {
     "data": {
      "text/html": [
       "<div>\n",
       "<style scoped>\n",
       "    .dataframe tbody tr th:only-of-type {\n",
       "        vertical-align: middle;\n",
       "    }\n",
       "\n",
       "    .dataframe tbody tr th {\n",
       "        vertical-align: top;\n",
       "    }\n",
       "\n",
       "    .dataframe thead th {\n",
       "        text-align: right;\n",
       "    }\n",
       "</style>\n",
       "<table border=\"1\" class=\"dataframe\">\n",
       "  <thead>\n",
       "    <tr style=\"text-align: right;\">\n",
       "      <th></th>\n",
       "      <th>AveragePrice</th>\n",
       "      <th>Total Volume</th>\n",
       "      <th>Total number of avocados with PLU 4046 sold</th>\n",
       "      <th>Total number of avocados with PLU 4225 sold</th>\n",
       "      <th>Total number of avocados with PLU 4770 sold</th>\n",
       "      <th>Total Bags</th>\n",
       "      <th>Small Bags</th>\n",
       "      <th>Large Bags</th>\n",
       "      <th>XLarge Bags</th>\n",
       "      <th>year</th>\n",
       "      <th>...</th>\n",
       "      <th>region_SouthCarolina</th>\n",
       "      <th>region_SouthCentral</th>\n",
       "      <th>region_Southeast</th>\n",
       "      <th>region_Spokane</th>\n",
       "      <th>region_StLouis</th>\n",
       "      <th>region_Syracuse</th>\n",
       "      <th>region_Tampa</th>\n",
       "      <th>region_TotalUS</th>\n",
       "      <th>region_West</th>\n",
       "      <th>region_WestTexNewMexico</th>\n",
       "    </tr>\n",
       "  </thead>\n",
       "  <tbody>\n",
       "    <tr>\n",
       "      <th>0</th>\n",
       "      <td>1.33</td>\n",
       "      <td>64236.62</td>\n",
       "      <td>1036.74</td>\n",
       "      <td>54454.85</td>\n",
       "      <td>48.16</td>\n",
       "      <td>8696.87</td>\n",
       "      <td>8603.62</td>\n",
       "      <td>93.25</td>\n",
       "      <td>0.0</td>\n",
       "      <td>2015.0</td>\n",
       "      <td>...</td>\n",
       "      <td>0</td>\n",
       "      <td>0</td>\n",
       "      <td>0</td>\n",
       "      <td>0</td>\n",
       "      <td>0</td>\n",
       "      <td>0</td>\n",
       "      <td>0</td>\n",
       "      <td>0</td>\n",
       "      <td>0</td>\n",
       "      <td>0</td>\n",
       "    </tr>\n",
       "    <tr>\n",
       "      <th>1</th>\n",
       "      <td>1.35</td>\n",
       "      <td>54876.98</td>\n",
       "      <td>674.28</td>\n",
       "      <td>44638.81</td>\n",
       "      <td>58.33</td>\n",
       "      <td>9505.56</td>\n",
       "      <td>9408.07</td>\n",
       "      <td>97.49</td>\n",
       "      <td>0.0</td>\n",
       "      <td>2015.0</td>\n",
       "      <td>...</td>\n",
       "      <td>0</td>\n",
       "      <td>0</td>\n",
       "      <td>0</td>\n",
       "      <td>0</td>\n",
       "      <td>0</td>\n",
       "      <td>0</td>\n",
       "      <td>0</td>\n",
       "      <td>0</td>\n",
       "      <td>0</td>\n",
       "      <td>0</td>\n",
       "    </tr>\n",
       "    <tr>\n",
       "      <th>2</th>\n",
       "      <td>0.93</td>\n",
       "      <td>118220.22</td>\n",
       "      <td>794.70</td>\n",
       "      <td>109149.67</td>\n",
       "      <td>130.50</td>\n",
       "      <td>8145.35</td>\n",
       "      <td>8042.21</td>\n",
       "      <td>103.14</td>\n",
       "      <td>0.0</td>\n",
       "      <td>2015.0</td>\n",
       "      <td>...</td>\n",
       "      <td>0</td>\n",
       "      <td>0</td>\n",
       "      <td>0</td>\n",
       "      <td>0</td>\n",
       "      <td>0</td>\n",
       "      <td>0</td>\n",
       "      <td>0</td>\n",
       "      <td>0</td>\n",
       "      <td>0</td>\n",
       "      <td>0</td>\n",
       "    </tr>\n",
       "    <tr>\n",
       "      <th>3</th>\n",
       "      <td>1.08</td>\n",
       "      <td>78992.15</td>\n",
       "      <td>1132.00</td>\n",
       "      <td>71976.41</td>\n",
       "      <td>72.58</td>\n",
       "      <td>5811.16</td>\n",
       "      <td>5677.40</td>\n",
       "      <td>133.76</td>\n",
       "      <td>0.0</td>\n",
       "      <td>2015.0</td>\n",
       "      <td>...</td>\n",
       "      <td>0</td>\n",
       "      <td>0</td>\n",
       "      <td>0</td>\n",
       "      <td>0</td>\n",
       "      <td>0</td>\n",
       "      <td>0</td>\n",
       "      <td>0</td>\n",
       "      <td>0</td>\n",
       "      <td>0</td>\n",
       "      <td>0</td>\n",
       "    </tr>\n",
       "    <tr>\n",
       "      <th>4</th>\n",
       "      <td>1.28</td>\n",
       "      <td>51039.60</td>\n",
       "      <td>941.48</td>\n",
       "      <td>43838.39</td>\n",
       "      <td>75.78</td>\n",
       "      <td>6183.95</td>\n",
       "      <td>5986.26</td>\n",
       "      <td>197.69</td>\n",
       "      <td>0.0</td>\n",
       "      <td>2015.0</td>\n",
       "      <td>...</td>\n",
       "      <td>0</td>\n",
       "      <td>0</td>\n",
       "      <td>0</td>\n",
       "      <td>0</td>\n",
       "      <td>0</td>\n",
       "      <td>0</td>\n",
       "      <td>0</td>\n",
       "      <td>0</td>\n",
       "      <td>0</td>\n",
       "      <td>0</td>\n",
       "    </tr>\n",
       "  </tbody>\n",
       "</table>\n",
       "<p>5 rows × 63 columns</p>\n",
       "</div>"
      ],
      "text/plain": [
       "   AveragePrice  Total Volume  Total number of avocados with PLU 4046 sold  \\\n",
       "0          1.33      64236.62                                      1036.74   \n",
       "1          1.35      54876.98                                       674.28   \n",
       "2          0.93     118220.22                                       794.70   \n",
       "3          1.08      78992.15                                      1132.00   \n",
       "4          1.28      51039.60                                       941.48   \n",
       "\n",
       "   Total number of avocados with PLU 4225 sold  \\\n",
       "0                                     54454.85   \n",
       "1                                     44638.81   \n",
       "2                                    109149.67   \n",
       "3                                     71976.41   \n",
       "4                                     43838.39   \n",
       "\n",
       "   Total number of avocados with PLU 4770 sold  Total Bags  Small Bags  \\\n",
       "0                                        48.16     8696.87     8603.62   \n",
       "1                                        58.33     9505.56     9408.07   \n",
       "2                                       130.50     8145.35     8042.21   \n",
       "3                                        72.58     5811.16     5677.40   \n",
       "4                                        75.78     6183.95     5986.26   \n",
       "\n",
       "   Large Bags  XLarge Bags    year  ...  region_SouthCarolina  \\\n",
       "0       93.25          0.0  2015.0  ...                     0   \n",
       "1       97.49          0.0  2015.0  ...                     0   \n",
       "2      103.14          0.0  2015.0  ...                     0   \n",
       "3      133.76          0.0  2015.0  ...                     0   \n",
       "4      197.69          0.0  2015.0  ...                     0   \n",
       "\n",
       "   region_SouthCentral  region_Southeast  region_Spokane  region_StLouis  \\\n",
       "0                    0                 0               0               0   \n",
       "1                    0                 0               0               0   \n",
       "2                    0                 0               0               0   \n",
       "3                    0                 0               0               0   \n",
       "4                    0                 0               0               0   \n",
       "\n",
       "   region_Syracuse  region_Tampa  region_TotalUS  region_West  \\\n",
       "0                0             0               0            0   \n",
       "1                0             0               0            0   \n",
       "2                0             0               0            0   \n",
       "3                0             0               0            0   \n",
       "4                0             0               0            0   \n",
       "\n",
       "   region_WestTexNewMexico  \n",
       "0                        0  \n",
       "1                        0  \n",
       "2                        0  \n",
       "3                        0  \n",
       "4                        0  \n",
       "\n",
       "[5 rows x 63 columns]"
      ]
     },
     "execution_count": 31,
     "metadata": {},
     "output_type": "execute_result"
    }
   ],
   "source": [
    "df.head()"
   ]
  },
  {
   "cell_type": "markdown",
   "metadata": {},
   "source": [
    "# Data Cleansing"
   ]
  },
  {
   "cell_type": "code",
   "execution_count": 32,
   "metadata": {},
   "outputs": [],
   "source": [
    "Q1=df.quantile(0.25)\n",
    "Q3=df.quantile(0.75)\n",
    "IQR=Q3-Q1\n",
    "#Removing Outliers using IQR method\n",
    "df_new=df[~((df < (Q1-1.5*IQR)) | (df> (Q3+1.5*IQR))).any(axis=1)]"
   ]
  },
  {
   "cell_type": "code",
   "execution_count": 33,
   "metadata": {},
   "outputs": [
    {
     "data": {
      "text/plain": [
       "(14951, 63)"
      ]
     },
     "execution_count": 33,
     "metadata": {},
     "output_type": "execute_result"
    }
   ],
   "source": [
    "df_new.shape"
   ]
  },
  {
   "cell_type": "code",
   "execution_count": 34,
   "metadata": {},
   "outputs": [
    {
     "name": "stdout",
     "output_type": "stream",
     "text": [
      "9.211804712169055\n"
     ]
    }
   ],
   "source": [
    "loss_percentage=(16468-14951)/16468*100\n",
    "print(loss_percentage)"
   ]
  },
  {
   "cell_type": "code",
   "execution_count": 35,
   "metadata": {},
   "outputs": [
    {
     "data": {
      "text/plain": [
       "AveragePrice                                   0\n",
       "Total Volume                                   0\n",
       "Total number of avocados with PLU 4046 sold    0\n",
       "Total number of avocados with PLU 4225 sold    0\n",
       "Total number of avocados with PLU 4770 sold    0\n",
       "                                              ..\n",
       "region_Syracuse                                0\n",
       "region_Tampa                                   0\n",
       "region_TotalUS                                 0\n",
       "region_West                                    0\n",
       "region_WestTexNewMexico                        0\n",
       "Length: 63, dtype: int64"
      ]
     },
     "execution_count": 35,
     "metadata": {},
     "output_type": "execute_result"
    }
   ],
   "source": [
    "df_new.skew()"
   ]
  },
  {
   "cell_type": "code",
   "execution_count": 36,
   "metadata": {},
   "outputs": [],
   "source": [
    "x=df.drop(\"AveragePrice\",axis=1)\n",
    "y=df.AveragePrice"
   ]
  },
  {
   "cell_type": "markdown",
   "metadata": {},
   "source": [
    "# Finding The Best Random State"
   ]
  },
  {
   "cell_type": "code",
   "execution_count": 37,
   "metadata": {},
   "outputs": [
    {
     "name": "stdout",
     "output_type": "stream",
     "text": [
      "Best Accuracy is  0.7083132817678868 on random_state 78\n"
     ]
    }
   ],
   "source": [
    "from sklearn.metrics import r2_score\n",
    "from sklearn.model_selection import train_test_split\n",
    "from sklearn.linear_model import LinearRegression\n",
    "maxAucc=0\n",
    "maxRS=0\n",
    "for i in range(1,100):\n",
    "    x_train,x_test,y_train,y_test=train_test_split(x,y,test_size=0.23,random_state=i)\n",
    "    le=LinearRegression()\n",
    "    le.fit(x_train,y_train)\n",
    "    pred=le.predict(x_test)\n",
    "    acc=r2_score(y_test,pred)\n",
    "    if acc>maxAucc:\n",
    "        maxAucc=acc\n",
    "        maxRS=i\n",
    "print(\"Best Accuracy is \",maxAucc,\"on random_state\",maxRS)"
   ]
  },
  {
   "cell_type": "code",
   "execution_count": 38,
   "metadata": {},
   "outputs": [],
   "source": [
    "from sklearn.model_selection import train_test_split\n",
    "x_train, x_test, y_train, y_test = train_test_split(x, y, test_size=0.23,random_state=78)\n",
    "\n",
    "from sklearn.preprocessing import StandardScaler\n",
    "ss = StandardScaler()\n",
    "\n",
    "x_trains = ss.fit_transform(x_train)\n",
    "x_tests = ss.transform(x_test)"
   ]
  },
  {
   "cell_type": "code",
   "execution_count": 39,
   "metadata": {},
   "outputs": [
    {
     "name": "stdout",
     "output_type": "stream",
     "text": [
      "0.0009199235131838346\n",
      "0.007077619133108266\n",
      "Root mean squared error: 0.03033024090217278\n",
      "0.7086606931423711\n"
     ]
    }
   ],
   "source": [
    "from sklearn.linear_model import LogisticRegression\n",
    "from sklearn.metrics import r2_score,mean_squared_error,mean_absolute_error\n",
    "\n",
    "lr=LinearRegression()\n",
    "lr.fit(x_trains,y_train)\n",
    "pred=lr.predict(x_tests)\n",
    "print(mean_squared_error(y_test,pred))\n",
    "print(mean_absolute_error(y_test,pred))\n",
    "print(\"Root mean squared error:\",np.sqrt(mean_squared_error(y_test,pred)))\n",
    "print(r2_score(y_test,pred))"
   ]
  },
  {
   "cell_type": "code",
   "execution_count": 40,
   "metadata": {},
   "outputs": [
    {
     "name": "stdout",
     "output_type": "stream",
     "text": [
      "predicted result price [-2.39142862e+14 -2.39142862e+14 -2.39142862e+14 ... -2.39142862e+14\n",
      " -2.39142862e+14 -2.39142862e+14]\n",
      "Actual price 10299    1.07499\n",
      "2481     1.07499\n",
      "8119     1.07499\n",
      "2814     1.07499\n",
      "138      1.05000\n",
      "          ...   \n",
      "12464    1.07499\n",
      "11784    1.07499\n",
      "16451    1.07499\n",
      "13636    1.07499\n",
      "13935    1.07499\n",
      "Name: AveragePrice, Length: 3788, dtype: float64\n"
     ]
    }
   ],
   "source": [
    "pred=lr.predict(x_test)\n",
    "print(\"predicted result price\",pred)\n",
    "print(\"Actual price\",y_test)"
   ]
  },
  {
   "cell_type": "code",
   "execution_count": 41,
   "metadata": {},
   "outputs": [
    {
     "name": "stdout",
     "output_type": "stream",
     "text": [
      "0.0004644993384581233\n",
      "0.004798693268010102\n",
      "Root mean squared error: 0.021552246714858368\n",
      "0.8528932967113175\n"
     ]
    }
   ],
   "source": [
    "from sklearn.ensemble import RandomForestRegressor\n",
    "rf=RandomForestRegressor()\n",
    "rf.fit(x_trains,y_train)\n",
    "pred=rf.predict(x_tests)\n",
    "print(mean_squared_error(y_test,pred))\n",
    "print(mean_absolute_error(y_test,pred))\n",
    "print(\"Root mean squared error:\",np.sqrt(mean_squared_error(y_test,pred)))\n",
    "print(r2_score(y_test,pred))"
   ]
  },
  {
   "cell_type": "code",
   "execution_count": 42,
   "metadata": {},
   "outputs": [
    {
     "name": "stdout",
     "output_type": "stream",
     "text": [
      "predicted result price [0.845 0.845 0.845 ... 0.845 0.845 0.845]\n",
      "Actual price 10299    1.07499\n",
      "2481     1.07499\n",
      "8119     1.07499\n",
      "2814     1.07499\n",
      "138      1.05000\n",
      "          ...   \n",
      "12464    1.07499\n",
      "11784    1.07499\n",
      "16451    1.07499\n",
      "13636    1.07499\n",
      "13935    1.07499\n",
      "Name: AveragePrice, Length: 3788, dtype: float64\n"
     ]
    }
   ],
   "source": [
    "pred=rf.predict(x_test)\n",
    "print(\"predicted result price\",pred)\n",
    "print(\"Actual price\",y_test)"
   ]
  },
  {
   "cell_type": "code",
   "execution_count": 43,
   "metadata": {},
   "outputs": [
    {
     "name": "stdout",
     "output_type": "stream",
     "text": [
      "0.0016895841395648966\n",
      "0.027633752820890093\n",
      "Root mean squared error: 0.04110455132421344\n",
      "0.46490956580200815\n"
     ]
    }
   ],
   "source": [
    "from sklearn.ensemble import AdaBoostRegressor\n",
    "ad=AdaBoostRegressor()\n",
    "ad.fit(x_trains,y_train)\n",
    "pred=ad.predict(x_tests)\n",
    "print(mean_squared_error(y_test,pred))\n",
    "print(mean_absolute_error(y_test,pred))\n",
    "print(\"Root mean squared error:\",np.sqrt(mean_squared_error(y_test,pred)))\n",
    "print(r2_score(y_test,pred))"
   ]
  },
  {
   "cell_type": "code",
   "execution_count": 44,
   "metadata": {},
   "outputs": [
    {
     "name": "stdout",
     "output_type": "stream",
     "text": [
      "predicted result price [0.97355125 0.97355125 0.97355125 ... 0.97355125 0.97355125 0.97355125]\n",
      "Actual price 10299    1.07499\n",
      "2481     1.07499\n",
      "8119     1.07499\n",
      "2814     1.07499\n",
      "138      1.05000\n",
      "          ...   \n",
      "12464    1.07499\n",
      "11784    1.07499\n",
      "16451    1.07499\n",
      "13636    1.07499\n",
      "13935    1.07499\n",
      "Name: AveragePrice, Length: 3788, dtype: float64\n"
     ]
    }
   ],
   "source": [
    "pred=ad.predict(x_test)\n",
    "print(\"predicted result price\",pred)\n",
    "print(\"Actual price\",y_test)"
   ]
  },
  {
   "cell_type": "code",
   "execution_count": 45,
   "metadata": {},
   "outputs": [
    {
     "name": "stdout",
     "output_type": "stream",
     "text": [
      "0.000850904958691662\n",
      "0.006504487334322243\n",
      "Root mean squared error: 0.029170275259100008\n",
      "0.730518834105061\n"
     ]
    }
   ],
   "source": [
    "from sklearn.neighbors import KNeighborsRegressor\n",
    "kn=KNeighborsRegressor()\n",
    "kn.fit(x_trains,y_train)\n",
    "pred=kn.predict(x_tests)\n",
    "print(mean_squared_error(y_test,pred))\n",
    "print(mean_absolute_error(y_test,pred))\n",
    "print(\"Root mean squared error:\",np.sqrt(mean_squared_error(y_test,pred)))\n",
    "print(r2_score(y_test,pred))"
   ]
  },
  {
   "cell_type": "code",
   "execution_count": 46,
   "metadata": {},
   "outputs": [
    {
     "name": "stdout",
     "output_type": "stream",
     "text": [
      "predicted result price [0.996 0.996 0.996 ... 0.996 0.996 0.996]\n",
      "Actual price 10299    1.07499\n",
      "2481     1.07499\n",
      "8119     1.07499\n",
      "2814     1.07499\n",
      "138      1.05000\n",
      "          ...   \n",
      "12464    1.07499\n",
      "11784    1.07499\n",
      "16451    1.07499\n",
      "13636    1.07499\n",
      "13935    1.07499\n",
      "Name: AveragePrice, Length: 3788, dtype: float64\n"
     ]
    }
   ],
   "source": [
    "pred=kn.predict(x_test)\n",
    "print(\"predicted result price\",pred)\n",
    "print(\"Actual price\",y_test)"
   ]
  },
  {
   "cell_type": "code",
   "execution_count": 50,
   "metadata": {},
   "outputs": [],
   "source": [
    "from sklearn.model_selection import cross_val_score"
   ]
  },
  {
   "cell_type": "code",
   "execution_count": 51,
   "metadata": {},
   "outputs": [
    {
     "name": "stdout",
     "output_type": "stream",
     "text": [
      "Cross validation Score of Logistic Regression -2.3783316419153447e+21\n"
     ]
    }
   ],
   "source": [
    "scr=cross_val_score(lr,x,y,cv=5)\n",
    "print(\"Cross validation Score of Logistic Regression\",scr.mean())"
   ]
  },
  {
   "cell_type": "code",
   "execution_count": 52,
   "metadata": {},
   "outputs": [
    {
     "name": "stdout",
     "output_type": "stream",
     "text": [
      "Cross validation Score of Random Forest Classifier -82630.2\n"
     ]
    }
   ],
   "source": [
    "scr=cross_val_score(rf,x,y,cv=5)\n",
    "print(\"Cross validation Score of Random Forest Classifier\",scr.mean())"
   ]
  },
  {
   "cell_type": "code",
   "execution_count": 53,
   "metadata": {},
   "outputs": [
    {
     "name": "stdout",
     "output_type": "stream",
     "text": [
      "Cross validation Score of AdaBoost Classifier -3.938395699986097e+26\n"
     ]
    }
   ],
   "source": [
    "scr=cross_val_score(ad,x,y,cv=5)\n",
    "print(\"Cross validation Score of AdaBoost Classifier\",scr.mean())"
   ]
  },
  {
   "cell_type": "code",
   "execution_count": 54,
   "metadata": {},
   "outputs": [
    {
     "name": "stdout",
     "output_type": "stream",
     "text": [
      "Cross validation Score of Kneighbors Classifier 0.8\n"
     ]
    }
   ],
   "source": [
    "scr=cross_val_score(kn,x,y,cv=5)\n",
    "print(\"Cross validation Score of Kneighbors Classifier\",scr.mean())"
   ]
  },
  {
   "cell_type": "code",
   "execution_count": 55,
   "metadata": {},
   "outputs": [],
   "source": [
    "from sklearn.model_selection import GridSearchCV"
   ]
  },
  {
   "cell_type": "code",
   "execution_count": 56,
   "metadata": {},
   "outputs": [],
   "source": [
    "#creating parameter list to pass in GridSearchCV\n",
    "\n",
    "parameters={\"n_neighbors\":(1,2,3,4,5,6,7,8,9),\n",
    "           \"algorithm\":[\"auto\",\"ball_tree\",\"kd_tree\",\"brute\"]}"
   ]
  },
  {
   "cell_type": "code",
   "execution_count": 57,
   "metadata": {},
   "outputs": [],
   "source": [
    "GCV=GridSearchCV(KNeighborsRegressor(),parameters,cv=5)"
   ]
  },
  {
   "cell_type": "code",
   "execution_count": 58,
   "metadata": {},
   "outputs": [
    {
     "data": {
      "text/plain": [
       "GridSearchCV(cv=5, estimator=KNeighborsRegressor(),\n",
       "             param_grid={'algorithm': ['auto', 'ball_tree', 'kd_tree', 'brute'],\n",
       "                         'n_neighbors': (1, 2, 3, 4, 5, 6, 7, 8, 9)})"
      ]
     },
     "execution_count": 58,
     "metadata": {},
     "output_type": "execute_result"
    }
   ],
   "source": [
    "GCV.fit(x_train,y_train)"
   ]
  },
  {
   "cell_type": "code",
   "execution_count": 59,
   "metadata": {},
   "outputs": [
    {
     "data": {
      "text/plain": [
       "{'algorithm': 'auto', 'n_neighbors': 3}"
      ]
     },
     "execution_count": 59,
     "metadata": {},
     "output_type": "execute_result"
    }
   ],
   "source": [
    "GCV.best_params_"
   ]
  },
  {
   "cell_type": "code",
   "execution_count": 60,
   "metadata": {},
   "outputs": [
    {
     "name": "stdout",
     "output_type": "stream",
     "text": [
      "73.58282961363327\n"
     ]
    }
   ],
   "source": [
    "kn_mod=KNeighborsRegressor(algorithm=\"auto\",n_neighbors=3)\n",
    "\n",
    "kn_mod.fit(x_trains,y_train)\n",
    "pred=kn_mod.predict(x_tests)\n",
    "print(r2_score(y_test,pred)*100)"
   ]
  },
  {
   "cell_type": "markdown",
   "metadata": {},
   "source": [
    "# Regularization"
   ]
  },
  {
   "cell_type": "code",
   "execution_count": 78,
   "metadata": {},
   "outputs": [],
   "source": [
    "from sklearn.linear_model import Lasso,Ridge"
   ]
  },
  {
   "cell_type": "code",
   "execution_count": 79,
   "metadata": {},
   "outputs": [
    {
     "data": {
      "text/plain": [
       "0.6318779363065735"
      ]
     },
     "execution_count": 79,
     "metadata": {},
     "output_type": "execute_result"
    }
   ],
   "source": [
    "ls=Lasso(alpha=0.0001)\n",
    "ls.fit(x_trains,y_train)\n",
    "ls.score(x_trains,y_train)"
   ]
  },
  {
   "cell_type": "code",
   "execution_count": 80,
   "metadata": {},
   "outputs": [
    {
     "data": {
      "text/plain": [
       "array([-4.41785016e-02,  0.00000000e+00, -1.51316998e-02, -5.01814874e-03,\n",
       "       -5.21391279e-04, -0.00000000e+00, -1.65440090e-02,  2.79604120e-03,\n",
       "        1.27495371e-03,  4.64796897e-03,  0.00000000e+00,  7.88826940e-03,\n",
       "       -5.28066211e-03,  3.99482634e-03, -9.56744906e-03,  5.93563086e-03,\n",
       "        9.45238857e-03,  1.50124505e-02,  0.00000000e+00,  4.59208065e-03,\n",
       "       -6.75152084e-03, -1.03327754e-02,  4.37275915e-04, -4.34261026e-03,\n",
       "        1.46246932e-04,  6.57855350e-03,  1.56883725e-03,  3.21677709e-03,\n",
       "       -1.01985277e-02, -4.13006338e-04, -9.86308058e-05, -1.45801064e-03,\n",
       "       -1.31257628e-03, -4.14098267e-03,  2.17253741e-03,  2.48188396e-03,\n",
       "       -2.84636619e-03,  1.14447929e-02,  9.61240933e-03, -6.38931815e-04,\n",
       "        1.66440793e-04,  5.75576443e-03, -2.25152818e-02,  8.07517482e-05,\n",
       "       -3.12506977e-04, -2.98063362e-03,  1.28885157e-03, -4.72742524e-03,\n",
       "       -9.72483509e-04, -4.81906990e-03,  2.84245876e-03, -1.85013801e-03,\n",
       "       -1.77701856e-03, -2.15305875e-03,  3.05806800e-03, -2.02865970e-03,\n",
       "        4.08715596e-03,  6.22553487e-03, -2.08511101e-03,  6.96830626e-02,\n",
       "        8.65201971e-03, -1.28134078e-02])"
      ]
     },
     "execution_count": 80,
     "metadata": {},
     "output_type": "execute_result"
    }
   ],
   "source": [
    "ls.coef_"
   ]
  },
  {
   "cell_type": "code",
   "execution_count": 81,
   "metadata": {},
   "outputs": [
    {
     "data": {
      "text/plain": [
       "0.6641516406953394"
      ]
     },
     "execution_count": 81,
     "metadata": {},
     "output_type": "execute_result"
    }
   ],
   "source": [
    "rd=Ridge(alpha=0.0001)\n",
    "rd.fit(x_trains,y_train)\n",
    "rd.score(x_trains,y_train)"
   ]
  },
  {
   "cell_type": "code",
   "execution_count": 82,
   "metadata": {},
   "outputs": [
    {
     "data": {
      "text/plain": [
       "array([-1.54737529e+00,  6.79654415e-01,  5.51924910e-01,  4.06907165e-02,\n",
       "       -8.32897076e-02,  2.90877918e-01,  3.51684381e-02,  7.11776854e-03,\n",
       "        1.45462260e-02,  5.81694007e-03,  0.00000000e+00,  1.42322142e-03,\n",
       "       -1.16686420e-02, -2.19252037e-03, -1.69548075e-02, -9.76929410e-04,\n",
       "        2.63051699e-03,  5.05990379e-03,  2.34848867e-02,  1.67718603e-03,\n",
       "       -1.19746980e-02, -1.39509123e-02, -2.51665859e-03, -9.09035620e-03,\n",
       "       -3.14949924e-03,  3.67406085e-03, -9.93302197e-04,  9.39072269e-04,\n",
       "       -1.40287711e-02, -2.96940333e-03, -4.70793543e-03, -3.86121815e-03,\n",
       "       -2.61425940e-03, -8.28022101e-03, -5.29038577e-04, -3.91287254e-05,\n",
       "       -5.82435392e-03,  6.98118402e-03,  7.83507675e-03, -4.50112985e-03,\n",
       "       -3.07325482e-03,  3.45052078e-03, -2.85656130e-02, -2.74042283e-03,\n",
       "       -3.28683028e-03, -7.00592327e-03, -1.18478045e-03, -8.11544152e-03,\n",
       "       -4.03431900e-03, -9.08221644e-03,  1.50460492e-04, -4.05251249e-03,\n",
       "       -5.36964574e-03, -1.03037581e-02,  1.05777424e-03, -7.09950589e-03,\n",
       "        1.77639415e-03,  3.95635021e-03, -6.65092709e-03,  5.43790659e-02,\n",
       "        2.88182255e-03, -1.68012421e-02])"
      ]
     },
     "execution_count": 82,
     "metadata": {},
     "output_type": "execute_result"
    }
   ],
   "source": [
    "rd.coef_"
   ]
  },
  {
   "cell_type": "code",
   "execution_count": 83,
   "metadata": {},
   "outputs": [],
   "source": [
    "from sklearn.linear_model import ElasticNet"
   ]
  },
  {
   "cell_type": "code",
   "execution_count": 84,
   "metadata": {},
   "outputs": [
    {
     "data": {
      "text/plain": [
       "0.6347026060479457"
      ]
     },
     "execution_count": 84,
     "metadata": {},
     "output_type": "execute_result"
    }
   ],
   "source": [
    "es=ElasticNet(alpha=0.0001)\n",
    "es.fit(x_trains,y_train)\n",
    "es.score(x_trains,y_train)"
   ]
  },
  {
   "cell_type": "code",
   "execution_count": 85,
   "metadata": {},
   "outputs": [
    {
     "data": {
      "text/plain": [
       "array([-8.10829029e-02,  1.96745489e-02, -7.72868875e-03, -4.36452683e-03,\n",
       "       -0.00000000e+00,  0.00000000e+00, -1.43240647e-02,  3.43029499e-03,\n",
       "        2.91650031e-03,  4.66526861e-03,  0.00000000e+00,  7.53913166e-03,\n",
       "       -5.82327567e-03,  4.23613566e-03, -1.01579774e-02,  5.86788024e-03,\n",
       "        9.04255027e-03,  1.69226184e-02,  0.00000000e+00,  4.79370480e-03,\n",
       "       -7.10974430e-03, -1.04939161e-02,  4.54514591e-04, -4.66234756e-03,\n",
       "        8.03974089e-05,  7.39209899e-03,  1.53486557e-03,  3.21099395e-03,\n",
       "       -1.04050355e-02, -5.86564506e-04, -4.43278467e-04, -1.60209509e-03,\n",
       "       -1.41009704e-03, -4.42562187e-03,  2.00488406e-03,  3.04721319e-03,\n",
       "       -3.07451699e-03,  1.20903454e-02,  1.08756665e-02, -6.84353309e-04,\n",
       "        0.00000000e+00,  5.79235160e-03, -2.28707160e-02,  0.00000000e+00,\n",
       "       -3.38294628e-04, -3.06433885e-03,  1.24160616e-03, -4.91726627e-03,\n",
       "       -1.17590397e-03, -5.03624316e-03,  2.96238494e-03, -1.87822935e-03,\n",
       "       -2.01082879e-03, -1.90774924e-03,  2.88612989e-03, -2.35648892e-03,\n",
       "        4.01385837e-03,  6.14729126e-03, -2.41237133e-03,  7.60920465e-02,\n",
       "        9.36455872e-03, -1.30668523e-02])"
      ]
     },
     "execution_count": 85,
     "metadata": {},
     "output_type": "execute_result"
    }
   ],
   "source": [
    "es.coef_"
   ]
  },
  {
   "cell_type": "markdown",
   "metadata": {},
   "source": [
    "# Saving the Best Model"
   ]
  },
  {
   "cell_type": "code",
   "execution_count": 97,
   "metadata": {},
   "outputs": [
    {
     "data": {
      "text/plain": [
       "['Avacado.pkl']"
      ]
     },
     "execution_count": 97,
     "metadata": {},
     "output_type": "execute_result"
    }
   ],
   "source": [
    "import joblib\n",
    "joblib.dump(kn_mod,\"Avacado.pkl\")"
   ]
  },
  {
   "cell_type": "code",
   "execution_count": null,
   "metadata": {},
   "outputs": [],
   "source": []
  }
 ],
 "metadata": {
  "kernelspec": {
   "display_name": "Python 3",
   "language": "python",
   "name": "python3"
  },
  "language_info": {
   "codemirror_mode": {
    "name": "ipython",
    "version": 3
   },
   "file_extension": ".py",
   "mimetype": "text/x-python",
   "name": "python",
   "nbconvert_exporter": "python",
   "pygments_lexer": "ipython3",
   "version": "3.8.5"
  }
 },
 "nbformat": 4,
 "nbformat_minor": 4
}
